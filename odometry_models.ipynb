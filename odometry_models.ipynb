{
 "cells": [
  {
   "cell_type": "code",
   "execution_count": 1,
   "metadata": {
    "collapsed": true
   },
   "outputs": [],
   "source": [
    "import os\n",
    "import pickle\n",
    "import numpy as np\n",
    "import matplotlib.pyplot as plt\n",
    "\n",
    "import src.geometry as geometry\n",
    "\n",
    "data_dir = '/home/ming/repos/VPR_PF/data/processed/RobotCar'\n",
    "\n",
    "def combine_lists(lists):\n",
    "    \"\"\"\n",
    "    For list of list of poses (as in VO and RTK relative pose data),\n",
    "    concatenate into a single pose object and return.\n",
    "    \"\"\"\n",
    "    master = []\n",
    "    for li in lists:\n",
    "        master.append(geometry.combine(li))\n",
    "    return geometry.combine(master)\n",
    "\n",
    "def covar_to_correl(covar):\n",
    "    v = np.sqrt(np.diag(covar))\n",
    "    outer_v = np.outer(v, v)\n",
    "    correlation = covar / outer_v\n",
    "    correlation[covar == 0] = 0.\n",
    "    return correlation\n",
    "\n",
    "def correl_to_covar(correl, std):\n",
    "    v = np.outer(std, std)\n",
    "    covar = correl * v\n",
    "    return covar"
   ]
  },
  {
   "cell_type": "code",
   "execution_count": 2,
   "metadata": {},
   "outputs": [
    {
     "data": {
      "text/plain": [
       "0.05235833333333334"
      ]
     },
     "execution_count": 2,
     "metadata": {},
     "output_type": "execute_result"
    }
   ],
   "source": [
    "3.1415 / 180 * 3"
   ]
  },
  {
   "cell_type": "code",
   "execution_count": 17,
   "metadata": {
    "scrolled": true
   },
   "outputs": [
    {
     "data": {
      "image/png": "[encoded data removed]",
      "text/plain": [
       "<Figure size 432x288 with 1 Axes>"
      ]
     },
     "metadata": {},
     "output_type": "display_data"
    },
    {
     "data": {
      "image/png": "[encoded data removed]",
      "text/plain": [
       "<Figure size 432x288 with 1 Axes>"
      ]
     },
     "metadata": {},
     "output_type": "display_data"
    },
    {
     "name": "stdout",
     "output_type": "stream",
     "text": [
      "Coefficients\n",
      " [[ 1.474e+00 -4.300e-02  7.000e-03  1.000e-03  2.000e-03  8.000e-03]\n",
      " [-4.730e-01 -9.000e-03 -9.000e-03 -0.000e+00 -2.000e-03 -4.000e-03]\n",
      " [ 3.160e-01 -1.063e+00  5.400e-02 -1.000e-03  3.000e-03  1.700e-02]\n",
      " [ 4.840e-01  6.800e-02 -1.050e+00  5.000e-03 -2.300e-02 -2.800e-02]\n",
      " [-4.310e+00  5.340e-01 -4.000e-02 -1.898e+00 -4.100e-02  8.700e-02]\n",
      " [-2.810e-01  1.000e-02  1.291e+00  2.000e-03 -7.300e-02 -1.500e-02]\n",
      " [ 3.500e-01 -1.300e-01 -4.400e-02  4.400e-02  4.100e-02  9.000e-03]]\n",
      "Correlation, linear model\n",
      " [[ 1.    -0.223 -0.011 -0.054  0.009 -0.084]\n",
      " [-0.223  1.    -0.162 -0.059 -0.034 -0.085]\n",
      " [-0.011 -0.162  1.     0.048  0.295 -0.003]\n",
      " [-0.054 -0.059  0.048  1.    -0.001 -0.025]\n",
      " [ 0.009 -0.034  0.295 -0.001  1.     0.174]\n",
      " [-0.084 -0.085 -0.003 -0.025  0.174  1.   ]]\n",
      "Correlation, zero mean\n",
      " [[ 1.     0.077 -0.311 -0.001 -0.018  0.016]\n",
      " [ 0.077  1.    -0.519  0.158 -0.42  -0.108]\n",
      " [-0.311 -0.519  1.     0.041  0.315  0.012]\n",
      " [-0.001  0.158  0.041  1.    -0.024 -0.057]\n",
      " [-0.018 -0.42   0.315 -0.024  1.     0.195]\n",
      " [ 0.016 -0.108  0.012 -0.057  0.195  1.   ]]\n",
      "Noise, linear model\n",
      " [0.32032 0.03659 0.03469 0.00354 0.00478 0.0201 ]\n",
      "Noise, zero mean\n",
      " [0.51734 0.12218 0.17876 0.01295 0.00553 0.02031]\n"
     ]
    }
   ],
   "source": [
    "dusk_dir = data_dir + '/2014-11-21-16-07-03/query/'\n",
    "\n",
    "with open(dusk_dir + 'traverses.pickle', 'rb') as f:\n",
    "    data = pickle.load(f)\n",
    "    \n",
    "gt_raw = data['gt_motion'] # RTK relative pose\n",
    "vo_raw = data['vo'] # VO relative pose\n",
    "\n",
    "# single pose element for RTK and VO relative poses\n",
    "gt = combine_lists(gt_raw)\n",
    "vo = combine_lists(vo_raw)\n",
    "\n",
    "err = geometry.logSE3(gt * vo.inv())\n",
    "vo_se3 = geometry.logSE3(vo)\n",
    "\n",
    "# fit regression coefficients\n",
    "X = np.concatenate((np.ones(shape=(len(vo_se3), 1)), vo_se3), axis=1)\n",
    "A = np.linalg.inv(X.transpose() @ X) @ X.transpose() @ err \n",
    "\n",
    "pred_err = X @ A\n",
    "resid = err - pred_err\n",
    "\n",
    "ind = 5 # for visualizing residuals\n",
    "plt.scatter(vo_se3[:, ind], resid[:, ind])\n",
    "plt.gca().set_aspect('equal', adjustable='box')\n",
    "plt.show()\n",
    "\n",
    "plt.scatter(vo_se3[:, ind], err[:, ind])\n",
    "plt.gca().set_aspect('equal', adjustable='box')\n",
    "plt.show()\n",
    "\n",
    "print(\"Coefficients\\n\", np.around(A, 3))\n",
    "\n",
    "# fit error covariance\n",
    "H = X @ np.linalg.inv(X.transpose() @ X) @ X.transpose()\n",
    "Sigma = err.transpose() @ (np.eye(len(vo_se3)) - H) @ err / len(vo_se3)\n",
    "Sigma0 = err.transpose() @ err / len(vo_se3) # covariance with no linear model\n",
    "\n",
    "rho = covar_to_correl(Sigma)\n",
    "rho0 = covar_to_correl(Sigma0)\n",
    "\n",
    "print(\"Correlation, linear model\\n\", np.around(rho, 3))\n",
    "print(\"Correlation, zero mean\\n\", np.around(rho0, 3))\n",
    "\n",
    "print(\"Noise, linear model\\n\", np.around(np.sqrt(np.diag(Sigma)), 5))\n",
    "print(\"Noise, zero mean\\n\", np.around(np.sqrt(np.diag(Sigma0)), 5))"
   ]
  },
  {
   "cell_type": "code",
   "execution_count": 12,
   "metadata": {},
   "outputs": [
    {
     "data": {
      "text/plain": [
       "array([[ 1.616e+00, -4.900e-02,  9.000e-03,  1.000e-03,  1.000e-03,\n",
       "         1.000e-03],\n",
       "       [-5.450e-01, -4.000e-03, -1.000e-02, -0.000e+00, -2.000e-03,\n",
       "        -1.000e-03],\n",
       "       [ 2.150e-01, -1.064e+00,  6.100e-02,  0.000e+00, -0.000e+00,\n",
       "         9.000e-03],\n",
       "       [-7.000e-02,  1.050e-01, -1.061e+00,  6.000e-03, -3.500e-02,\n",
       "        -1.300e-02],\n",
       "       [-6.661e+00,  4.840e-01, -1.350e-01, -1.936e+00, -1.070e-01,\n",
       "         1.090e-01],\n",
       "       [-7.510e-01,  2.000e-02,  1.180e+00,  2.200e-02, -1.410e-01,\n",
       "        -3.700e-02],\n",
       "       [-5.710e-01, -4.600e-02, -5.300e-02,  3.700e-02,  4.200e-02,\n",
       "         1.900e-02]])"
      ]
     },
     "execution_count": 12,
     "metadata": {},
     "output_type": "execute_result"
    }
   ],
   "source": [
    "np.array([[ 1.616e+00, -4.900e-02,  9.000e-03,  1.000e-03,  1.000e-03,  1.000e-03],\n",
    "                                     [-5.450e-01, -4.000e-03, -1.000e-02, -0.000e+00, -2.000e-03, -1.000e-03],\n",
    "                                     [ 2.150e-01, -1.064e+00,  6.100e-02,  0.000e+00, -0.000e+00,  9.000e-03],\n",
    "                                     [-7.000e-02,  1.050e-01, -1.061e+00,  6.000e-03, -3.500e-02, -1.300e-02],\n",
    "                                     [-6.661e+00,  4.840e-01, -1.350e-01, -1.936e+00, -1.070e-01,  1.090e-01],\n",
    "                                     [-7.510e-01,  2.000e-02,  1.180e+00,  2.200e-02, -1.410e-01, -3.700e-02],\n",
    "                                     [-5.710e-01, -4.600e-02, -5.300e-02,  3.700e-02,  4.200e-02,  1.900e-02]])"
   ]
  },
  {
   "cell_type": "code",
   "execution_count": 4,
   "metadata": {},
   "outputs": [
    {
     "data": {
      "text/plain": [
       "1.145949387235397"
      ]
     },
     "execution_count": 4,
     "metadata": {},
     "output_type": "execute_result"
    }
   ],
   "source": [
    "0.02 * 180 / 3.1415"
   ]
  },
  {
   "cell_type": "code",
   "execution_count": 22,
   "metadata": {},
   "outputs": [
    {
     "data": {
      "image/png": "[encoded data removed]",
      "text/plain": [
       "<Figure size 432x288 with 1 Axes>"
      ]
     },
     "metadata": {},
     "output_type": "display_data"
    },
    {
     "data": {
      "image/png": "[encoded data removed]",
      "text/plain": [
       "<Figure size 432x288 with 1 Axes>"
      ]
     },
     "metadata": {},
     "output_type": "display_data"
    },
    {
     "name": "stdout",
     "output_type": "stream",
     "text": [
      "Coefficients\n",
      " [[ 9.230e-01 -5.500e-02 -1.600e-02  1.000e-03  1.000e-03 -9.000e-03]\n",
      " [-4.580e-01 -9.000e-03 -5.000e-03  1.000e-03 -4.000e-03  4.000e-03]\n",
      " [-1.300e-02 -1.080e+00 -2.400e-02  1.000e-03 -5.000e-03  2.400e-02]\n",
      " [-2.159e+00 -1.680e-01 -1.061e+00  1.400e-02 -6.400e-02  3.000e-02]\n",
      " [-8.860e-01 -9.900e-02 -2.100e-01 -1.924e+00  8.000e-03  9.200e-02]\n",
      " [ 2.060e-01  3.520e-01  1.240e+00  2.300e-02 -9.600e-02  1.700e-02]\n",
      " [ 4.000e-01 -6.000e-02  6.100e-02  5.700e-02  4.900e-02 -2.100e-02]]\n",
      "Correlation, linear model\n",
      " [[ 1.    -0.077 -0.115 -0.016 -0.035 -0.023]\n",
      " [-0.077  1.     0.261 -0.042 -0.023  0.009]\n",
      " [-0.115  0.261  1.    -0.014  0.247 -0.006]\n",
      " [-0.016 -0.042 -0.014  1.    -0.004  0.098]\n",
      " [-0.035 -0.023  0.247 -0.004  1.     0.042]\n",
      " [-0.023  0.009 -0.006  0.098  0.042  1.   ]]\n",
      "Correlation, zero mean\n",
      " [[ 1.     0.041 -0.506  0.009 -0.066 -0.087]\n",
      " [ 0.041  1.    -0.125  0.155 -0.257 -0.058]\n",
      " [-0.506 -0.125  1.     0.012  0.156 -0.004]\n",
      " [ 0.009  0.155  0.012  1.    -0.082 -0.053]\n",
      " [-0.066 -0.257  0.156 -0.082  1.     0.072]\n",
      " [-0.087 -0.058 -0.004 -0.053  0.072  1.   ]]\n",
      "Noise, linear model\n",
      " [[ 6.393e-02 -2.600e-03 -1.230e-03 -1.000e-05 -4.000e-05 -8.000e-05]\n",
      " [-2.600e-03  1.796e-02  1.480e-03 -2.000e-05 -1.000e-05  2.000e-05]\n",
      " [-1.230e-03  1.480e-03  1.780e-03 -0.000e+00  5.000e-05 -0.000e+00]\n",
      " [-1.000e-05 -2.000e-05 -0.000e+00  1.000e-05 -0.000e+00  0.000e+00]\n",
      " [-4.000e-05 -1.000e-05  5.000e-05 -0.000e+00  2.000e-05  0.000e+00]\n",
      " [-8.000e-05  2.000e-05 -0.000e+00  0.000e+00  0.000e+00  1.700e-04]]\n",
      "Noise, zero mean\n",
      " [0.36516 0.17092 0.1647  0.01366 0.00503 0.01338]\n"
     ]
    }
   ],
   "source": [
    "night_dir = data_dir + '/2014-12-16-18-44-24/query/'\n",
    "\n",
    "with open(night_dir + 'traverses.pickle', 'rb') as f:\n",
    "    data = pickle.load(f)\n",
    "    \n",
    "gt_raw = data['gt_motion'] # RTK relative pose\n",
    "vo_raw = data['vo'] # VO relative pose\n",
    "\n",
    "# single pose element for RTK and VO relative poses\n",
    "gt = combine_lists(gt_raw)\n",
    "vo = combine_lists(vo_raw)\n",
    "\n",
    "err = geometry.logSE3(gt * vo.inv())\n",
    "vo_se3 = geometry.logSE3(vo)\n",
    "\n",
    "# fit regression coefficients\n",
    "X = np.concatenate((np.ones(shape=(len(vo_se3), 1)), vo_se3), axis=1)\n",
    "A = np.linalg.inv(X.transpose() @ X) @ X.transpose() @ err \n",
    "\n",
    "pred_err = X @ A\n",
    "resid = err - pred_err\n",
    "\n",
    "ind = 5 # for visualizing residuals\n",
    "plt.scatter(vo_se3[:, ind], resid[:, ind])\n",
    "plt.gca().set_aspect('equal', adjustable='box')\n",
    "plt.show()\n",
    "\n",
    "plt.scatter(vo_se3[:, ind], geometry.logSE3(gt)[:, ind])\n",
    "plt.gca().set_aspect('equal', adjustable='box')\n",
    "plt.show()\n",
    "\n",
    "print(\"Coefficients\\n\", np.around(A, 3))\n",
    "\n",
    "# fit error covariance\n",
    "H = X @ np.linalg.inv(X.transpose() @ X) @ X.transpose()\n",
    "Sigma = err.transpose() @ (np.eye(len(vo_se3)) - H) @ err / len(vo_se3)\n",
    "Sigma0 = err.transpose() @ err / len(vo_se3) # covariance with no linear model\n",
    "\n",
    "rho = covar_to_correl(Sigma)\n",
    "rho0 = covar_to_correl(Sigma0)\n",
    "\n",
    "print(\"Correlation, linear model\\n\", np.around(rho, 3))\n",
    "print(\"Correlation, zero mean\\n\", np.around(rho0, 3))\n",
    "\n",
    "print(\"Noise, linear model\\n\", np.around(Sigma, 5))\n",
    "print(\"Noise, zero mean\\n\", np.around(np.sqrt(np.diag(Sigma0)), 5))"
   ]
  },
  {
   "cell_type": "code",
   "execution_count": 20,
   "metadata": {},
   "outputs": [
    {
     "data": {
      "text/plain": [
       "11.45949387235397"
      ]
     },
     "execution_count": 20,
     "metadata": {},
     "output_type": "execute_result"
    }
   ],
   "source": [
    "0.2 * 180 / 3.1415"
   ]
  },
  {
   "cell_type": "code",
   "execution_count": 6,
   "metadata": {},
   "outputs": [
    {
     "data": {
      "image/png": "[encoded data removed]",
      "text/plain": [
       "<Figure size 432x288 with 1 Axes>"
      ]
     },
     "metadata": {},
     "output_type": "display_data"
    },
    {
     "data": {
      "image/png": "[encoded data removed]",
      "text/plain": [
       "<Figure size 432x288 with 1 Axes>"
      ]
     },
     "metadata": {},
     "output_type": "display_data"
    },
    {
     "name": "stdout",
     "output_type": "stream",
     "text": [
      "Coefficients\n",
      " [[ 5.790e-01 -2.400e-02 -2.000e-03  0.000e+00  4.000e-03 -2.000e-03]\n",
      " [-2.980e-01 -1.700e-02 -1.000e-02  2.000e-03 -5.000e-03  5.000e-03]\n",
      " [ 5.990e-01 -9.920e-01  1.500e-02 -8.000e-03 -2.100e-02  8.900e-02]\n",
      " [-1.638e+00 -1.000e-03 -9.400e-01  3.200e-02 -7.500e-02  6.900e-02]\n",
      " [-2.740e-01  1.680e-01 -1.390e-01 -1.852e+00  1.800e-02 -5.000e-03]\n",
      " [ 3.780e-01  9.800e-02  1.296e+00  2.500e-02 -1.220e-01  2.400e-02]\n",
      " [-4.020e-01 -1.760e-01  3.200e-02  6.100e-02  8.800e-02 -1.640e-01]]\n",
      "Correlation, linear model\n",
      " [[ 1.    -0.359 -0.221 -0.016 -0.036 -0.034]\n",
      " [-0.359  1.    -0.114 -0.18   0.02  -0.147]\n",
      " [-0.221 -0.114  1.     0.047  0.691 -0.028]\n",
      " [-0.016 -0.18   0.047  1.     0.012  0.073]\n",
      " [-0.036  0.02   0.691  0.012  1.     0.017]\n",
      " [-0.034 -0.147 -0.028  0.073  0.017  1.   ]]\n",
      "Correlation, zero mean\n",
      " [[ 1.     0.168 -0.395 -0.018 -0.042  0.046]\n",
      " [ 0.168  1.    -0.509  0.213 -0.478  0.152]\n",
      " [-0.395 -0.509  1.    -0.015  0.215 -0.172]\n",
      " [-0.018  0.213 -0.015  1.    -0.063 -0.108]\n",
      " [-0.042 -0.478  0.215 -0.063  1.    -0.1  ]\n",
      " [ 0.046  0.152 -0.172 -0.108 -0.1    1.   ]]\n",
      "Noise, linear model\n",
      " [[ 3.354e-02 -7.300e-04 -6.600e-04 -1.000e-05 -3.000e-05 -3.000e-05]\n",
      " [-7.300e-04  1.200e-04 -2.000e-05 -1.000e-05  0.000e+00 -1.000e-05]\n",
      " [-6.600e-04 -2.000e-05  2.600e-04  0.000e+00  5.000e-05 -0.000e+00]\n",
      " [-1.000e-05 -1.000e-05  0.000e+00  2.000e-05  0.000e+00  0.000e+00]\n",
      " [-3.000e-05  0.000e+00  5.000e-05  0.000e+00  2.000e-05  0.000e+00]\n",
      " [-3.000e-05 -1.000e-05 -0.000e+00  0.000e+00  0.000e+00  2.000e-05]]\n",
      "Noise, zero mean\n",
      " [[ 5.256e-02  4.070e-03 -1.180e-02 -6.000e-05 -5.000e-05  5.000e-05]\n",
      " [ 4.070e-03  1.119e-02 -7.010e-03  3.300e-04 -2.800e-04  8.000e-05]\n",
      " [-1.180e-02 -7.010e-03  1.697e-02 -3.000e-05  1.500e-04 -1.100e-04]\n",
      " [-6.000e-05  3.300e-04 -3.000e-05  2.100e-04 -1.000e-05 -1.000e-05]\n",
      " [-5.000e-05 -2.800e-04  1.500e-04 -1.000e-05  3.000e-05 -0.000e+00]\n",
      " [ 5.000e-05  8.000e-05 -1.100e-04 -1.000e-05 -0.000e+00  2.000e-05]]\n"
     ]
    }
   ],
   "source": [
    "rain_dir = data_dir + '/2015-10-29-12-18-17/query/'\n",
    "\n",
    "with open(rain_dir + 'traverses.pickle', 'rb') as f:\n",
    "    data = pickle.load(f)\n",
    "    \n",
    "gt_raw = data['gt_motion'] # RTK relative pose\n",
    "vo_raw = data['vo'] # VO relative pose\n",
    "\n",
    "# single pose element for RTK and VO relative poses\n",
    "gt = combine_lists(gt_raw)\n",
    "vo = combine_lists(vo_raw)\n",
    "\n",
    "err = geometry.logSE3(gt * vo.inv())\n",
    "vo_se3 = geometry.logSE3(vo)\n",
    "\n",
    "# fit regression coefficients\n",
    "X = np.concatenate((np.ones(shape=(len(vo_se3), 1)), vo_se3), axis=1)\n",
    "A = np.linalg.inv(X.transpose() @ X) @ X.transpose() @ err \n",
    "\n",
    "pred_err = X @ A\n",
    "resid = err - pred_err\n",
    "\n",
    "ind = 1 # for visualizing residuals\n",
    "plt.scatter(vo_se3[:, ind], resid[:, ind])\n",
    "plt.gca().set_aspect('equal', adjustable='box')\n",
    "plt.show()\n",
    "\n",
    "plt.scatter(vo_se3[:, ind], err[:, ind])\n",
    "plt.gca().set_aspect('equal', adjustable='box')\n",
    "plt.show()\n",
    "\n",
    "print(\"Coefficients\\n\", np.around(A, 3))\n",
    "\n",
    "# fit error covariance\n",
    "H = X @ np.linalg.inv(X.transpose() @ X) @ X.transpose()\n",
    "Sigma = err.transpose() @ (np.eye(len(vo_se3)) - H) @ err / len(vo_se3)\n",
    "Sigma0 = err.transpose() @ err / len(vo_se3) # covariance with no linear model\n",
    "\n",
    "rho = covar_to_correl(Sigma)\n",
    "rho0 = covar_to_correl(Sigma0)\n",
    "\n",
    "print(\"Correlation, linear model\\n\", np.around(rho, 3))\n",
    "print(\"Correlation, zero mean\\n\", np.around(rho0, 3))\n",
    "\n",
    "print(\"Noise, linear model\\n\", np.around(Sigma, 5))\n",
    "print(\"Noise, zero mean\\n\", np.around(Sigma0, 5))"
   ]
  }
 ],
 "metadata": {
  "kernelspec": {
   "display_name": "Python 3",
   "language": "python",
   "name": "python3"
  },
  "language_info": {
   "codemirror_mode": {
    "name": "ipython",
    "version": 3
   },
   "file_extension": ".py",
   "mimetype": "text/x-python",
   "name": "python",
   "nbconvert_exporter": "python",
   "pygments_lexer": "ipython3",
   "version": "3.6.3"
  }
 },
 "nbformat": 4,
 "nbformat_minor": 2
}
